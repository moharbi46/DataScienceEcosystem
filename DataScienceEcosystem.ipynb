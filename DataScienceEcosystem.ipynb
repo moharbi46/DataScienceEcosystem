{
 "cells": [
  {
   "cell_type": "markdown",
   "id": "76d74822-5f08-480b-9a7d-0c886b012ddb",
   "metadata": {
    "tags": []
   },
   "source": [
    "# Data Science Tools and Ecosystem"
   ]
  },
  {
   "cell_type": "markdown",
   "id": "bef89614-c810-4589-be22-b9fe9a1642f8",
   "metadata": {},
   "source": [
    "In this notebook, Data Science Tools and Ecosystem are summarized."
   ]
  },
  {
   "cell_type": "markdown",
   "id": "b7e8ad17-0c35-4582-8ee2-c1b1263c65fe",
   "metadata": {},
   "source": [
    "Some of the popular languages that Data Scientists use are:"
   ]
  },
  {
   "cell_type": "markdown",
   "id": "22a1621b-5707-485c-8e1d-3b2836fc5c90",
   "metadata": {
    "tags": []
   },
   "source": [
    "1. python\n",
    "2. SQL\n",
    "3. R\n",
    "\n",
    "   \n"
   ]
  },
  {
   "cell_type": "markdown",
   "id": "51af60ac-3344-4b84-a158-960fbe768c95",
   "metadata": {},
   "source": [
    "Some of the commonly used libraries used by Data Scientists include:\n"
   ]
  },
  {
   "cell_type": "code",
   "execution_count": null,
   "id": "fe7d5094-794d-40c1-a5d6-850e8597ec62",
   "metadata": {},
   "outputs": [],
   "source": []
  },
  {
   "cell_type": "markdown",
   "id": "3dc1c293-689f-4ac0-9849-c5397078a715",
   "metadata": {},
   "source": [
    "1. Seaborn\n",
    "2. Pandas\n",
    "3. Numpy"
   ]
  },
  {
   "cell_type": "markdown",
   "id": "54859dec-3c13-4774-848e-114a8aeb3900",
   "metadata": {},
   "source": [
    "|Data Science Tools|\n",
    "|---|\n",
    "TensorFlow\n",
    "Keras\n",
    "PyTorch\n"
   ]
  },
  {
   "cell_type": "markdown",
   "id": "91dd5825-948b-460b-8f15-24cf5a3b6350",
   "metadata": {},
   "source": [
    "### Below are a few examples of evaluating arithmetic expressions in Python"
   ]
  },
  {
   "cell_type": "code",
   "execution_count": 2,
   "id": "c457f6e7-960e-412a-8557-ba0aa2c825ab",
   "metadata": {},
   "outputs": [
    {
     "data": {
      "text/plain": [
       "17"
      ]
     },
     "execution_count": 2,
     "metadata": {},
     "output_type": "execute_result"
    }
   ],
   "source": [
    "## This a simple arithmetic expression to mutiply then add integers\n",
    "(3*4)+5"
   ]
  },
  {
   "cell_type": "code",
   "execution_count": 3,
   "id": "02d96c93-0ce5-4585-9a3d-6c57d15528c0",
   "metadata": {},
   "outputs": [
    {
     "data": {
      "text/plain": [
       "3.3333333333333335"
      ]
     },
     "execution_count": 3,
     "metadata": {},
     "output_type": "execute_result"
    }
   ],
   "source": [
    "##This a simple arithmetic expression to mutiply then add integers\n",
    "200/60"
   ]
  },
  {
   "cell_type": "markdown",
   "id": "f58b8e22-8798-409a-b83b-be74036c86b2",
   "metadata": {},
   "source": [
    "##### Objectives:"
   ]
  },
  {
   "cell_type": "markdown",
   "id": "a1fa8884-2d9e-4ddb-9bc2-c3415dead1c3",
   "metadata": {},
   "source": [
    "* Python \n",
    "* R\n",
    "* SQL"
   ]
  },
  {
   "cell_type": "markdown",
   "id": "86b55019-510e-4704-93f3-e655a9e50410",
   "metadata": {},
   "source": [
    "## Author"
   ]
  },
  {
   "cell_type": "markdown",
   "id": "62b9fbf2-95cd-44d2-9e40-07ebf41df593",
   "metadata": {},
   "source": [
    "Mohammad"
   ]
  },
  {
   "cell_type": "code",
   "execution_count": null,
   "id": "b1ac1f61-0070-421e-b792-d320b58ade4b",
   "metadata": {},
   "outputs": [],
   "source": []
  }
 ],
 "metadata": {
  "kernelspec": {
   "display_name": "Python 3 (ipykernel)",
   "language": "python",
   "name": "python3"
  },
  "language_info": {
   "codemirror_mode": {
    "name": "ipython",
    "version": 3
   },
   "file_extension": ".py",
   "mimetype": "text/x-python",
   "name": "python",
   "nbconvert_exporter": "python",
   "pygments_lexer": "ipython3",
   "version": "3.9.7"
  }
 },
 "nbformat": 4,
 "nbformat_minor": 5
}
